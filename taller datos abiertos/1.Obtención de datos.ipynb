{
 "cells": [
  {
   "cell_type": "markdown",
   "metadata": {},
   "source": [
    "# Obtener datos de http://www.dgis.salud.gob.mx/contenidos/basesdedatos/da_sis_gobmx.html"
   ]
  },
  {
   "cell_type": "markdown",
   "metadata": {},
   "source": [
    "Necesitamos beautifulsoup4\n"
   ]
  },
  {
   "cell_type": "code",
   "execution_count": 1,
   "metadata": {},
   "outputs": [
    {
     "name": "stdout",
     "output_type": "stream",
     "text": [
      "Defaulting to user installation because normal site-packages is not writeable"
     ]
    },
    {
     "name": "stderr",
     "output_type": "stream",
     "text": [
      "\n",
      "[notice] A new release of pip is available: 24.3.1 -> 25.0\n",
      "[notice] To update, run: python.exe -m pip install --upgrade pip\n"
     ]
    },
    {
     "name": "stdout",
     "output_type": "stream",
     "text": [
      "\n",
      "Requirement already satisfied: bs4 in c:\\users\\edupe\\appdata\\roaming\\python\\python313\\site-packages (0.0.2)\n",
      "Requirement already satisfied: beautifulsoup4 in c:\\users\\edupe\\appdata\\roaming\\python\\python313\\site-packages (from bs4) (4.13.3)\n",
      "Requirement already satisfied: soupsieve>1.2 in c:\\users\\edupe\\appdata\\roaming\\python\\python313\\site-packages (from beautifulsoup4->bs4) (2.6)\n",
      "Requirement already satisfied: typing-extensions>=4.0.0 in c:\\users\\edupe\\appdata\\roaming\\python\\python313\\site-packages (from beautifulsoup4->bs4) (4.12.2)\n"
     ]
    }
   ],
   "source": [
    "!pip install bs4"
   ]
  },
  {
   "cell_type": "markdown",
   "metadata": {},
   "source": [
    "Quiero que hagas webscrapping de las bases de datos de esta pagina\n",
    "http://www.dgis.salud.gob.mx/contenidos/basesdedatos/da_sis_gobmx.html\n",
    "\n",
    "Especificamente aquellas bases que están en la tabla que se llama \"Enfermedades crónicas no transmisibles en el adulto y en el anciano\".\n",
    "\n",
    "Descargalas en una carpeta llamada \"Bases saludo taller\", si no existe creala, y que además de eso, en la raiz de ese directorio descomprime las bases, ya que están en formato zip.\n",
    "\n",
    "Coloca en el codigo prints del avance y prints que permitan debuggear la ejecución del codigo \n",
    "\n"
   ]
  },
  {
   "cell_type": "code",
   "execution_count": 2,
   "metadata": {},
   "outputs": [
    {
     "name": "stdout",
     "output_type": "stream",
     "text": [
      "Directorio 'Bases saludo taller' verificado/creado.\n",
      "Página web accedida exitosamente.\n",
      "Se encontraron 7 tablas en la página.\n",
      "Tabla de enfermedades crónicas encontrada con 14 enlaces.\n",
      "Descargando DA_EC_SIS_2010.zip?v=2022.10.19 desde http://www.dgis.salud.gob.mx../../descargas/datosabiertos/serviciosOtorgados/Enfermedades_cronicas_no_transmisibles_en_el_adulto_y_en_el_anciano/DA_EC_SIS_2010.zip?v=2022.10.19...\n",
      "Error al descargar o descomprimir DA_EC_SIS_2010.zip?v=2022.10.19: Failed to parse: 'www.dgis.salud.gob.mx..', label empty or too long\n",
      "Descargando DA_EC_SIS_2011.zip?v=2022.10.19 desde http://www.dgis.salud.gob.mx../../descargas/datosabiertos/serviciosOtorgados/Enfermedades_cronicas_no_transmisibles_en_el_adulto_y_en_el_anciano/DA_EC_SIS_2011.zip?v=2022.10.19...\n",
      "Error al descargar o descomprimir DA_EC_SIS_2011.zip?v=2022.10.19: Failed to parse: 'www.dgis.salud.gob.mx..', label empty or too long\n",
      "Descargando DA_EC_SIS_2012.zip?v=2022.10.19 desde http://www.dgis.salud.gob.mx../../descargas/datosabiertos/serviciosOtorgados/Enfermedades_cronicas_no_transmisibles_en_el_adulto_y_en_el_anciano/DA_EC_SIS_2012.zip?v=2022.10.19...\n",
      "Error al descargar o descomprimir DA_EC_SIS_2012.zip?v=2022.10.19: Failed to parse: 'www.dgis.salud.gob.mx..', label empty or too long\n",
      "Descargando DA_EC_SIS_2013.zip?v=2022.10.19 desde http://www.dgis.salud.gob.mx../../descargas/datosabiertos/serviciosOtorgados/Enfermedades_cronicas_no_transmisibles_en_el_adulto_y_en_el_anciano/DA_EC_SIS_2013.zip?v=2022.10.19...\n",
      "Error al descargar o descomprimir DA_EC_SIS_2013.zip?v=2022.10.19: Failed to parse: 'www.dgis.salud.gob.mx..', label empty or too long\n",
      "Descargando DA_EC_SIS_2014.zip?v=2022.10.19 desde http://www.dgis.salud.gob.mx../../descargas/datosabiertos/serviciosOtorgados/Enfermedades_cronicas_no_transmisibles_en_el_adulto_y_en_el_anciano/DA_EC_SIS_2014.zip?v=2022.10.19...\n",
      "Error al descargar o descomprimir DA_EC_SIS_2014.zip?v=2022.10.19: Failed to parse: 'www.dgis.salud.gob.mx..', label empty or too long\n",
      "Descargando DA_EC_SIS_2015.zip?v=2022.10.19 desde http://www.dgis.salud.gob.mx../../descargas/datosabiertos/serviciosOtorgados/Enfermedades_cronicas_no_transmisibles_en_el_adulto_y_en_el_anciano/DA_EC_SIS_2015.zip?v=2022.10.19...\n",
      "Error al descargar o descomprimir DA_EC_SIS_2015.zip?v=2022.10.19: Failed to parse: 'www.dgis.salud.gob.mx..', label empty or too long\n",
      "Descargando DA_EC_SIS_2016.zip?v=2022.10.19 desde http://www.dgis.salud.gob.mx../../descargas/datosabiertos/serviciosOtorgados/Enfermedades_cronicas_no_transmisibles_en_el_adulto_y_en_el_anciano/DA_EC_SIS_2016.zip?v=2022.10.19...\n",
      "Error al descargar o descomprimir DA_EC_SIS_2016.zip?v=2022.10.19: Failed to parse: 'www.dgis.salud.gob.mx..', label empty or too long\n",
      "Descargando DA_EC_SIS_2017.zip?v=2022.10.19 desde http://www.dgis.salud.gob.mx../../descargas/datosabiertos/serviciosOtorgados/Enfermedades_cronicas_no_transmisibles_en_el_adulto_y_en_el_anciano/DA_EC_SIS_2017.zip?v=2022.10.19...\n",
      "Error al descargar o descomprimir DA_EC_SIS_2017.zip?v=2022.10.19: Failed to parse: 'www.dgis.salud.gob.mx..', label empty or too long\n",
      "Descargando DA_EC_SIS_2018.zip?v=2022.10.19 desde http://www.dgis.salud.gob.mx../../descargas/datosabiertos/serviciosOtorgados/Enfermedades_cronicas_no_transmisibles_en_el_adulto_y_en_el_anciano/DA_EC_SIS_2018.zip?v=2022.10.19...\n",
      "Error al descargar o descomprimir DA_EC_SIS_2018.zip?v=2022.10.19: Failed to parse: 'www.dgis.salud.gob.mx..', label empty or too long\n",
      "Descargando DA_EC_SIS_2019.zip?v=2022.10.19 desde http://www.dgis.salud.gob.mx../../descargas/datosabiertos/serviciosOtorgados/Enfermedades_cronicas_no_transmisibles_en_el_adulto_y_en_el_anciano/DA_EC_SIS_2019.zip?v=2022.10.19...\n",
      "Error al descargar o descomprimir DA_EC_SIS_2019.zip?v=2022.10.19: Failed to parse: 'www.dgis.salud.gob.mx..', label empty or too long\n",
      "Descargando DA_EC_SIS_2020.zip?v=2022.10.19 desde http://www.dgis.salud.gob.mx../../descargas/datosabiertos/serviciosOtorgados/Enfermedades_cronicas_no_transmisibles_en_el_adulto_y_en_el_anciano/DA_EC_SIS_2020.zip?v=2022.10.19...\n",
      "Error al descargar o descomprimir DA_EC_SIS_2020.zip?v=2022.10.19: Failed to parse: 'www.dgis.salud.gob.mx..', label empty or too long\n",
      "Descargando DA_EC_SIS_2021.zip?v=2022.10.19 desde http://www.dgis.salud.gob.mx../../descargas/datosabiertos/serviciosOtorgados/Enfermedades_cronicas_no_transmisibles_en_el_adulto_y_en_el_anciano/DA_EC_SIS_2021.zip?v=2022.10.19...\n",
      "Error al descargar o descomprimir DA_EC_SIS_2021.zip?v=2022.10.19: Failed to parse: 'www.dgis.salud.gob.mx..', label empty or too long\n",
      "Descargando DA_EC_SIS_2022.zip?v=2023.12.22 desde http://www.dgis.salud.gob.mx../../descargas/datosabiertos/serviciosOtorgados/Enfermedades_cronicas_no_transmisibles_en_el_adulto_y_en_el_anciano/DA_EC_SIS_2022.zip?v=2023.12.22...\n",
      "Error al descargar o descomprimir DA_EC_SIS_2022.zip?v=2023.12.22: Failed to parse: 'www.dgis.salud.gob.mx..', label empty or too long\n",
      "Descargando DA_EC_SIS_2023.zip?v=2024.09.09 desde http://www.dgis.salud.gob.mx../../descargas/datosabiertos/serviciosOtorgados/Enfermedades_cronicas_no_transmisibles_en_el_adulto_y_en_el_anciano/DA_EC_SIS_2023.zip?v=2024.09.09...\n",
      "Error al descargar o descomprimir DA_EC_SIS_2023.zip?v=2024.09.09: Failed to parse: 'www.dgis.salud.gob.mx..', label empty or too long\n"
     ]
    }
   ],
   "source": [
    "import os\n",
    "import requests\n",
    "from bs4 import BeautifulSoup\n",
    "from zipfile import ZipFile\n",
    "\n",
    "# URL base\n",
    "base_url = \"http://www.dgis.salud.gob.mx/contenidos/basesdedatos/da_sis_gobmx.html\"\n",
    "\n",
    "# Crear el directorio si no existe\n",
    "directory = \"Bases saludo taller\"\n",
    "os.makedirs(directory, exist_ok=True)\n",
    "print(f\"Directorio '{directory}' verificado/creado.\")\n",
    "\n",
    "# Obtener el contenido de la página\n",
    "response = requests.get(base_url)\n",
    "if response.status_code != 200:\n",
    "    print(f\"Error al acceder a la página: {response.status_code}\")\n",
    "    exit()\n",
    "\n",
    "print(\"Página web accedida exitosamente.\")\n",
    "\n",
    "# Parsear el HTML\n",
    "soup = BeautifulSoup(response.content, \"html.parser\")\n",
    "\n",
    "# Buscar la tabla de \"Enfermedades crónicas no transmisibles en el adulto y en el anciano\"\n",
    "tables = soup.find_all(\"table\")\n",
    "print(f\"Se encontraron {len(tables)} tablas en la página.\")\n",
    "\n",
    "# Filtrado de la tabla correcta\n",
    "found = False\n",
    "for table in tables:\n",
    "    if \"Enfermedades crónicas no transmisibles en el adulto y en el anciano\" in table.text:\n",
    "        found = True\n",
    "        links = table.find_all(\"a\", href=True)\n",
    "        print(f\"Tabla de enfermedades crónicas encontrada con {len(links)} enlaces.\")\n",
    "        \n",
    "        # Descargar cada archivo ZIP\n",
    "        for link in links:\n",
    "            file_url = link['href']\n",
    "            if not file_url.startswith(\"http\"):\n",
    "                file_url = \"http://www.dgis.salud.gob.mx\" + file_url\n",
    "\n",
    "            file_name = file_url.split(\"/\")[-1]\n",
    "            file_path = os.path.join(directory, file_name)\n",
    "\n",
    "            print(f\"Descargando {file_name} desde {file_url}...\")\n",
    "            try:\n",
    "                file_response = requests.get(file_url)\n",
    "                with open(file_path, 'wb') as f:\n",
    "                    f.write(file_response.content)\n",
    "                print(f\"Archivo {file_name} descargado exitosamente.\")\n",
    "\n",
    "                # Descomprimir el archivo ZIP\n",
    "                if file_name.endswith(\".zip\"):\n",
    "                    with ZipFile(file_path, 'r') as zip_ref:\n",
    "                        zip_ref.extractall(directory)\n",
    "                    print(f\"Archivo {file_name} descomprimido en {directory}.\")\n",
    "\n",
    "            except Exception as e:\n",
    "                print(f\"Error al descargar o descomprimir {file_name}: {e}\")\n",
    "        break\n",
    "\n",
    "if not found:\n",
    "    print(\"No se encontró la tabla de enfermedades crónicas.\")\n"
   ]
  },
  {
   "cell_type": "markdown",
   "metadata": {},
   "source": [
    "Al ejecutar el codigo obtengo este error "
   ]
  },
  {
   "cell_type": "markdown",
   "metadata": {},
   "source": [
    "Directorio 'Bases saludo taller' verificado/creado.\n",
    "Página web accedida exitosamente.\n",
    "Se encontraron 7 tablas en la página.\n",
    "Tabla de enfermedades crónicas encontrada con 14 enlaces.\n",
    "Descargando DA_EC_SIS_2010.zip?v=2022.10.19 desde http://www.dgis.salud.gob.mx../../descargas/datosabiertos/serviciosOtorgados/Enfermedades_cronicas_no_transmisibles_en_el_adulto_y_en_el_anciano/DA_EC_SIS_2010.zip?v=2022.10.19...\n",
    "Error al descargar o descomprimir DA_EC_SIS_2010.zip?v=2022.10.19: Failed to parse: 'www.dgis.salud.gob.mx..', label empty or too long\n",
    "\n",
    "solucionalo "
   ]
  },
  {
   "cell_type": "code",
   "execution_count": 3,
   "metadata": {},
   "outputs": [
    {
     "name": "stdout",
     "output_type": "stream",
     "text": [
      "Directorio 'Bases saludo taller' verificado/creado.\n",
      "Página web accedida exitosamente.\n",
      "Se encontraron 7 tablas en la página.\n",
      "Tabla de enfermedades crónicas encontrada con 14 enlaces.\n",
      "Descargando DA_EC_SIS_2010.zip desde http://www.dgis.salud.gob.mx/descargas/datosabiertos/serviciosOtorgados/Enfermedades_cronicas_no_transmisibles_en_el_adulto_y_en_el_anciano/DA_EC_SIS_2010.zip?v=2022.10.19...\n",
      "Archivo DA_EC_SIS_2010.zip descargado exitosamente.\n",
      "Archivo DA_EC_SIS_2010.zip descomprimido en Bases saludo taller.\n",
      "Descargando DA_EC_SIS_2011.zip desde http://www.dgis.salud.gob.mx/descargas/datosabiertos/serviciosOtorgados/Enfermedades_cronicas_no_transmisibles_en_el_adulto_y_en_el_anciano/DA_EC_SIS_2011.zip?v=2022.10.19...\n",
      "Archivo DA_EC_SIS_2011.zip descargado exitosamente.\n",
      "Archivo DA_EC_SIS_2011.zip descomprimido en Bases saludo taller.\n",
      "Descargando DA_EC_SIS_2012.zip desde http://www.dgis.salud.gob.mx/descargas/datosabiertos/serviciosOtorgados/Enfermedades_cronicas_no_transmisibles_en_el_adulto_y_en_el_anciano/DA_EC_SIS_2012.zip?v=2022.10.19...\n",
      "Archivo DA_EC_SIS_2012.zip descargado exitosamente.\n",
      "Archivo DA_EC_SIS_2012.zip descomprimido en Bases saludo taller.\n",
      "Descargando DA_EC_SIS_2013.zip desde http://www.dgis.salud.gob.mx/descargas/datosabiertos/serviciosOtorgados/Enfermedades_cronicas_no_transmisibles_en_el_adulto_y_en_el_anciano/DA_EC_SIS_2013.zip?v=2022.10.19...\n",
      "Archivo DA_EC_SIS_2013.zip descargado exitosamente.\n",
      "Archivo DA_EC_SIS_2013.zip descomprimido en Bases saludo taller.\n",
      "Descargando DA_EC_SIS_2014.zip desde http://www.dgis.salud.gob.mx/descargas/datosabiertos/serviciosOtorgados/Enfermedades_cronicas_no_transmisibles_en_el_adulto_y_en_el_anciano/DA_EC_SIS_2014.zip?v=2022.10.19...\n",
      "Archivo DA_EC_SIS_2014.zip descargado exitosamente.\n",
      "Archivo DA_EC_SIS_2014.zip descomprimido en Bases saludo taller.\n",
      "Descargando DA_EC_SIS_2015.zip desde http://www.dgis.salud.gob.mx/descargas/datosabiertos/serviciosOtorgados/Enfermedades_cronicas_no_transmisibles_en_el_adulto_y_en_el_anciano/DA_EC_SIS_2015.zip?v=2022.10.19...\n",
      "Archivo DA_EC_SIS_2015.zip descargado exitosamente.\n",
      "Archivo DA_EC_SIS_2015.zip descomprimido en Bases saludo taller.\n",
      "Descargando DA_EC_SIS_2016.zip desde http://www.dgis.salud.gob.mx/descargas/datosabiertos/serviciosOtorgados/Enfermedades_cronicas_no_transmisibles_en_el_adulto_y_en_el_anciano/DA_EC_SIS_2016.zip?v=2022.10.19...\n",
      "Archivo DA_EC_SIS_2016.zip descargado exitosamente.\n",
      "Archivo DA_EC_SIS_2016.zip descomprimido en Bases saludo taller.\n",
      "Descargando DA_EC_SIS_2017.zip desde http://www.dgis.salud.gob.mx/descargas/datosabiertos/serviciosOtorgados/Enfermedades_cronicas_no_transmisibles_en_el_adulto_y_en_el_anciano/DA_EC_SIS_2017.zip?v=2022.10.19...\n",
      "Archivo DA_EC_SIS_2017.zip descargado exitosamente.\n",
      "Archivo DA_EC_SIS_2017.zip descomprimido en Bases saludo taller.\n",
      "Descargando DA_EC_SIS_2018.zip desde http://www.dgis.salud.gob.mx/descargas/datosabiertos/serviciosOtorgados/Enfermedades_cronicas_no_transmisibles_en_el_adulto_y_en_el_anciano/DA_EC_SIS_2018.zip?v=2022.10.19...\n",
      "Archivo DA_EC_SIS_2018.zip descargado exitosamente.\n",
      "Archivo DA_EC_SIS_2018.zip descomprimido en Bases saludo taller.\n",
      "Descargando DA_EC_SIS_2019.zip desde http://www.dgis.salud.gob.mx/descargas/datosabiertos/serviciosOtorgados/Enfermedades_cronicas_no_transmisibles_en_el_adulto_y_en_el_anciano/DA_EC_SIS_2019.zip?v=2022.10.19...\n",
      "Archivo DA_EC_SIS_2019.zip descargado exitosamente.\n",
      "Archivo DA_EC_SIS_2019.zip descomprimido en Bases saludo taller.\n",
      "Descargando DA_EC_SIS_2020.zip desde http://www.dgis.salud.gob.mx/descargas/datosabiertos/serviciosOtorgados/Enfermedades_cronicas_no_transmisibles_en_el_adulto_y_en_el_anciano/DA_EC_SIS_2020.zip?v=2022.10.19...\n",
      "Archivo DA_EC_SIS_2020.zip descargado exitosamente.\n",
      "Archivo DA_EC_SIS_2020.zip descomprimido en Bases saludo taller.\n",
      "Descargando DA_EC_SIS_2021.zip desde http://www.dgis.salud.gob.mx/descargas/datosabiertos/serviciosOtorgados/Enfermedades_cronicas_no_transmisibles_en_el_adulto_y_en_el_anciano/DA_EC_SIS_2021.zip?v=2022.10.19...\n",
      "Archivo DA_EC_SIS_2021.zip descargado exitosamente.\n",
      "Archivo DA_EC_SIS_2021.zip descomprimido en Bases saludo taller.\n",
      "Descargando DA_EC_SIS_2022.zip desde http://www.dgis.salud.gob.mx/descargas/datosabiertos/serviciosOtorgados/Enfermedades_cronicas_no_transmisibles_en_el_adulto_y_en_el_anciano/DA_EC_SIS_2022.zip?v=2023.12.22...\n",
      "Archivo DA_EC_SIS_2022.zip descargado exitosamente.\n",
      "Archivo DA_EC_SIS_2022.zip descomprimido en Bases saludo taller.\n",
      "Descargando DA_EC_SIS_2023.zip desde http://www.dgis.salud.gob.mx/descargas/datosabiertos/serviciosOtorgados/Enfermedades_cronicas_no_transmisibles_en_el_adulto_y_en_el_anciano/DA_EC_SIS_2023.zip?v=2024.09.09...\n",
      "Archivo DA_EC_SIS_2023.zip descargado exitosamente.\n",
      "Archivo DA_EC_SIS_2023.zip descomprimido en Bases saludo taller.\n"
     ]
    }
   ],
   "source": [
    "import os\n",
    "import requests\n",
    "from bs4 import BeautifulSoup\n",
    "from zipfile import ZipFile\n",
    "from urllib.parse import urljoin\n",
    "\n",
    "# URL base\n",
    "base_url = \"http://www.dgis.salud.gob.mx/contenidos/basesdedatos/da_sis_gobmx.html\"\n",
    "\n",
    "# Crear el directorio si no existe\n",
    "directory = \"Bases saludo taller\"\n",
    "os.makedirs(directory, exist_ok=True)\n",
    "print(f\"Directorio '{directory}' verificado/creado.\")\n",
    "\n",
    "# Obtener el contenido de la página\n",
    "response = requests.get(base_url)\n",
    "if response.status_code != 200:\n",
    "    print(f\"Error al acceder a la página: {response.status_code}\")\n",
    "    exit()\n",
    "\n",
    "print(\"Página web accedida exitosamente.\")\n",
    "\n",
    "# Parsear el HTML\n",
    "soup = BeautifulSoup(response.content, \"html.parser\")\n",
    "\n",
    "# Buscar la tabla de \"Enfermedades crónicas no transmisibles en el adulto y en el anciano\"\n",
    "tables = soup.find_all(\"table\")\n",
    "print(f\"Se encontraron {len(tables)} tablas en la página.\")\n",
    "\n",
    "# Filtrado de la tabla correcta\n",
    "found = False\n",
    "for table in tables:\n",
    "    if \"Enfermedades crónicas no transmisibles en el adulto y en el anciano\" in table.text:\n",
    "        found = True\n",
    "        links = table.find_all(\"a\", href=True)\n",
    "        print(f\"Tabla de enfermedades crónicas encontrada con {len(links)} enlaces.\")\n",
    "        \n",
    "        # Descargar cada archivo ZIP\n",
    "        for link in links:\n",
    "            file_url = link['href']\n",
    "            file_url = urljoin(base_url, file_url)  # Corrección del enlace relativo\n",
    "\n",
    "            file_name = file_url.split(\"/\")[-1].split(\"?\")[0]  # Eliminar parámetros de la URL\n",
    "            file_path = os.path.join(directory, file_name)\n",
    "\n",
    "            print(f\"Descargando {file_name} desde {file_url}...\")\n",
    "            try:\n",
    "                file_response = requests.get(file_url)\n",
    "                with open(file_path, 'wb') as f:\n",
    "                    f.write(file_response.content)\n",
    "                print(f\"Archivo {file_name} descargado exitosamente.\")\n",
    "\n",
    "                # Descomprimir el archivo ZIP\n",
    "                if file_name.endswith(\".zip\"):\n",
    "                    with ZipFile(file_path, 'r') as zip_ref:\n",
    "                        zip_ref.extractall(directory)\n",
    "                    print(f\"Archivo {file_name} descomprimido en {directory}.\")\n",
    "\n",
    "            except Exception as e:\n",
    "                print(f\"Error al descargar o descomprimir {file_name}: {e}\")\n",
    "        break\n",
    "\n",
    "if not found:\n",
    "    print(\"No se encontró la tabla de enfermedades crónicas.\")\n"
   ]
  }
 ],
 "metadata": {
  "kernelspec": {
   "display_name": "Python 3",
   "language": "python",
   "name": "python3"
  },
  "language_info": {
   "codemirror_mode": {
    "name": "ipython",
    "version": 3
   },
   "file_extension": ".py",
   "mimetype": "text/x-python",
   "name": "python",
   "nbconvert_exporter": "python",
   "pygments_lexer": "ipython3",
   "version": "3.13.1"
  }
 },
 "nbformat": 4,
 "nbformat_minor": 2
}
