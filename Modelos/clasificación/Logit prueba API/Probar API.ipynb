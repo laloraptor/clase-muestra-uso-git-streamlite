{
 "cells": [
  {
   "cell_type": "markdown",
   "metadata": {},
   "source": [
    "MI api esta corriendo en  \"http://127.0.0.1:8000/predict\"\n",
    "Quiero obtener los resultados para el archivo nueva_base_sni.csv, primero en un json y al final integrarlo en ese archivo csv.\n",
    "Mi endpoint se llama predict y recibe informacion que tiene el mismo nombre que las columnas de mi csv\n",
    "\n",
    "mi archivo se ve asi \n",
    "anios_desde_doctorado,numero_publicaciones,indice_h_promedio,anios_docente,ha_ganado_premios,horas_clase_semana\n",
    "18,9,11.689680153233436,5,0,39\n",
    "7,8,6.9337302315562575,11,0,40\n",
    "\n"
   ]
  },
  {
   "cell_type": "code",
   "execution_count": 1,
   "metadata": {},
   "outputs": [
    {
     "data": {
      "text/plain": [
       "{'json_output': 'resultados_sni.json',\n",
       " 'output_csv': 'nueva_base_sni_con_respuestas.csv'}"
      ]
     },
     "execution_count": 1,
     "metadata": {},
     "output_type": "execute_result"
    }
   ],
   "source": [
    "import pandas as pd\n",
    "import requests\n",
    "import json\n",
    "\n",
    "# Cargar el CSV con los datos\n",
    "input_csv = 'nueva_base_sni.csv'\n",
    "data = pd.read_csv(input_csv)\n",
    "\n",
    "# Endpoint de la API\n",
    "api_url = \"http://127.0.0.1:8000/predict\"\n",
    "\n",
    "# Lista para almacenar las respuestas\n",
    "results = []\n",
    "\n",
    "# Iterar sobre cada fila del CSV\n",
    "for _, row in data.iterrows():\n",
    "    # Crear el payload para la solicitud\n",
    "    payload = {\n",
    "        \"anios_desde_doctorado\": row['anios_desde_doctorado'], #indica del primer lado la entrada que la api espera, del otro lado la que le daremos\n",
    "        \"numero_publicaciones\": row['numero_publicaciones'],\n",
    "        \"indice_h_promedio\": row['indice_h_promedio'],\n",
    "        \"anios_docente\": row['anios_docente'],\n",
    "        \"ha_ganado_premios\": row['ha_ganado_premios'],\n",
    "        \"horas_clase_semana\": row['horas_clase_semana']\n",
    "    }\n",
    "    \n",
    "    # Hacer la solicitud POST\n",
    "    response = requests.post(api_url, json=payload)\n",
    "    \n",
    "    # Parsear la respuesta\n",
    "    if response.status_code == 200:\n",
    "        response_data = response.json()\n",
    "        results.append(response_data)  # Guardar en la lista de resultados\n",
    "    else:\n",
    "        # En caso de error, guardar un mensaje de error\n",
    "        results.append({\"error\": f\"HTTP {response.status_code}\", \"payload\": payload})\n",
    "\n",
    "# Guardar los resultados en un archivo JSON\n",
    "json_output = 'resultados_sni.json'\n",
    "with open(json_output, 'w') as json_file:\n",
    "    json.dump(results, json_file, indent=4)\n",
    "\n",
    "# Agregar los resultados al DataFrame original en una nueva columna\n",
    "data['respuesta_api'] = [json.dumps(result) for result in results]\n",
    "\n",
    "# Guardar el nuevo CSV con los resultados\n",
    "output_csv = 'nueva_base_sni_con_respuestas.csv'\n",
    "data.to_csv(output_csv, index=False)\n",
    "\n",
    "{\n",
    "    \"json_output\": json_output,\n",
    "    \"output_csv\": output_csv\n",
    "}\n"
   ]
  }
 ],
 "metadata": {
  "kernelspec": {
   "display_name": "Python 3",
   "language": "python",
   "name": "python3"
  },
  "language_info": {
   "codemirror_mode": {
    "name": "ipython",
    "version": 3
   },
   "file_extension": ".py",
   "mimetype": "text/x-python",
   "name": "python",
   "nbconvert_exporter": "python",
   "pygments_lexer": "ipython3",
   "version": "3.12.7"
  }
 },
 "nbformat": 4,
 "nbformat_minor": 2
}
