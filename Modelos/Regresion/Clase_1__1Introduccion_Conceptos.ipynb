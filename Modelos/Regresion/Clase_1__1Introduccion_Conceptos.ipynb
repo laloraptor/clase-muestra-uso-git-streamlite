{
 "cells": [
  {
   "cell_type": "markdown",
   "id": "efb4b368",
   "metadata": {},
   "source": [
    "# Clase 1. Introducción a conceptos y la idea intuitiva"
   ]
  },
  {
   "cell_type": "markdown",
   "id": "2886667f",
   "metadata": {},
   "source": [
    "## Primera parte: Acercamiento a la idea intuitiva usando la media"
   ]
  },
  {
   "cell_type": "markdown",
   "id": "20d9e269",
   "metadata": {},
   "source": [
    "\n",
    "En esta primera parte vamos a acercanos a la idea intuitiva de lo que buscamos lograr con el modelo de regresión, por qué lo calculamos como lo calculamos, por qué sus supuestos son los que son.\n",
    "\n",
    "**Pregunta**: ¿por qué usamos la media para representar a un conjunto de datos?\n",
    "\n",
    "**Objetivo fundamental**: ver la media como una especie de pronostico e introducir\n",
    "algo del lenguaje usado en los análisis de regresión.\n"
   ]
  },
  {
   "cell_type": "markdown",
   "id": "74c23de6",
   "metadata": {},
   "source": [
    "### Generar datos ficticios para un ejercicio usando como escenario goles de un partido de futbol"
   ]
  },
  {
   "cell_type": "code",
   "execution_count": 1,
   "id": "3925c615",
   "metadata": {},
   "outputs": [],
   "source": [
    "#!pip install numpy pandas matplotlib"
   ]
  },
  {
   "cell_type": "code",
   "execution_count": 2,
   "id": "fcd495a2",
   "metadata": {},
   "outputs": [],
   "source": [
    "import numpy as np\n",
    "import pandas as pd\n",
    "import matplotlib.pyplot as plt\n"
   ]
  },
  {
   "cell_type": "code",
   "execution_count": 3,
   "id": "d95a24a3",
   "metadata": {},
   "outputs": [
    {
     "data": {
      "text/html": [
       "<div>\n",
       "<style scoped>\n",
       "    .dataframe tbody tr th:only-of-type {\n",
       "        vertical-align: middle;\n",
       "    }\n",
       "\n",
       "    .dataframe tbody tr th {\n",
       "        vertical-align: top;\n",
       "    }\n",
       "\n",
       "    .dataframe thead th {\n",
       "        text-align: right;\n",
       "    }\n",
       "</style>\n",
       "<table border=\"1\" class=\"dataframe\">\n",
       "  <thead>\n",
       "    <tr style=\"text-align: right;\">\n",
       "      <th></th>\n",
       "      <th>Partido</th>\n",
       "      <th>Goles</th>\n",
       "    </tr>\n",
       "  </thead>\n",
       "  <tbody>\n",
       "    <tr>\n",
       "      <th>0</th>\n",
       "      <td>1</td>\n",
       "      <td>2.0</td>\n",
       "    </tr>\n",
       "    <tr>\n",
       "      <th>1</th>\n",
       "      <td>2</td>\n",
       "      <td>5.0</td>\n",
       "    </tr>\n",
       "    <tr>\n",
       "      <th>2</th>\n",
       "      <td>3</td>\n",
       "      <td>4.0</td>\n",
       "    </tr>\n",
       "    <tr>\n",
       "      <th>3</th>\n",
       "      <td>4</td>\n",
       "      <td>2.0</td>\n",
       "    </tr>\n",
       "    <tr>\n",
       "      <th>4</th>\n",
       "      <td>5</td>\n",
       "      <td>3.0</td>\n",
       "    </tr>\n",
       "    <tr>\n",
       "      <th>5</th>\n",
       "      <td>6</td>\n",
       "      <td>6.0</td>\n",
       "    </tr>\n",
       "    <tr>\n",
       "      <th>6</th>\n",
       "      <td>7</td>\n",
       "      <td>0.0</td>\n",
       "    </tr>\n",
       "    <tr>\n",
       "      <th>7</th>\n",
       "      <td>8</td>\n",
       "      <td>3.0</td>\n",
       "    </tr>\n",
       "    <tr>\n",
       "      <th>8</th>\n",
       "      <td>9</td>\n",
       "      <td>6.0</td>\n",
       "    </tr>\n",
       "    <tr>\n",
       "      <th>9</th>\n",
       "      <td>10</td>\n",
       "      <td>3.0</td>\n",
       "    </tr>\n",
       "  </tbody>\n",
       "</table>\n",
       "</div>"
      ],
      "text/plain": [
       "   Partido  Goles\n",
       "0        1    2.0\n",
       "1        2    5.0\n",
       "2        3    4.0\n",
       "3        4    2.0\n",
       "4        5    3.0\n",
       "5        6    6.0\n",
       "6        7    0.0\n",
       "7        8    3.0\n",
       "8        9    6.0\n",
       "9       10    3.0"
      ]
     },
     "execution_count": 3,
     "metadata": {},
     "output_type": "execute_result"
    }
   ],
   "source": [
    "# Importar bibliotecas necesarias\n",
    "import numpy as np\n",
    "import pandas as pd\n",
    "\n",
    "# Establecer semilla para reproducibilidad: asegura que los datos generados sean los mismos en cada ejecución\n",
    "np.random.seed(123)\n",
    "\n",
    "# Generar datos ficticios de goles usando una distribución normal:\n",
    "# loc=4 establece el promedio en 4 goles por partido, y scale=1.5 establece la desviación estándar en 1.5.\n",
    "# Esto crea 300 valores simulando los goles de 300 partidos.\n",
    "goles = np.random.normal(loc=4, scale=1.5, size=300)\n",
    "\n",
    "# Redondear los valores de goles al número entero más cercano, ya que los goles solo pueden ser valores enteros\n",
    "goles = np.round(goles)\n",
    "\n",
    "# Reemplazar valores negativos por 0 para mantener solo valores no negativos (no existen goles negativos en la realidad)\n",
    "goles[goles < 0] = 0\n",
    "\n",
    "# Crear un DataFrame para organizar y visualizar los datos:\n",
    "# La columna 'Partido' contiene el número de cada partido (del 1 al 300) y la columna 'Goles' el total de goles anotados.\n",
    "df_goles = pd.DataFrame({'Partido': range(1, 301), 'Goles': goles})\n",
    "\n",
    "# Mostrar las primeras 10 filas del DataFrame para verificar los datos\n",
    "df_goles.head(10)\n"
   ]
  },
  {
   "cell_type": "markdown",
   "id": "3e5e1f3c",
   "metadata": {},
   "source": [
    "### La media como reductor de los residuos\n",
    "Vamos a hacer el análisis sencillo. Veamos la media. "
   ]
  },
  {
   "cell_type": "code",
   "execution_count": 4,
   "id": "75d59b2a",
   "metadata": {},
   "outputs": [
    {
     "name": "stdout",
     "output_type": "stream",
     "text": [
      "Media: 3.9366666666666665\n",
      "Desviación estándar: 1.540747187310833\n"
     ]
    }
   ],
   "source": [
    "\n",
    "# Calcular la media de los goles\n",
    "media = df_goles['Goles'].mean()\n",
    "print(\"Media:\", media)\n",
    "\n",
    "# Calcular la desviación estándar de los goles\n",
    "sd = df_goles['Goles'].std()\n",
    "print(\"Desviación estándar:\", sd)\n"
   ]
  },
  {
   "cell_type": "markdown",
   "id": "1a4fb28c",
   "metadata": {},
   "source": [
    "Restar la media a cada elemento de la columna Goles"
   ]
  },
  {
   "cell_type": "code",
   "execution_count": 5,
   "id": "7af98e57",
   "metadata": {},
   "outputs": [
    {
     "data": {
      "text/html": [
       "<div>\n",
       "<style scoped>\n",
       "    .dataframe tbody tr th:only-of-type {\n",
       "        vertical-align: middle;\n",
       "    }\n",
       "\n",
       "    .dataframe tbody tr th {\n",
       "        vertical-align: top;\n",
       "    }\n",
       "\n",
       "    .dataframe thead th {\n",
       "        text-align: right;\n",
       "    }\n",
       "</style>\n",
       "<table border=\"1\" class=\"dataframe\">\n",
       "  <thead>\n",
       "    <tr style=\"text-align: right;\">\n",
       "      <th></th>\n",
       "      <th>Partido</th>\n",
       "      <th>Goles</th>\n",
       "      <th>Diferencia</th>\n",
       "    </tr>\n",
       "  </thead>\n",
       "  <tbody>\n",
       "    <tr>\n",
       "      <th>0</th>\n",
       "      <td>1</td>\n",
       "      <td>2.0</td>\n",
       "      <td>-1.936667</td>\n",
       "    </tr>\n",
       "    <tr>\n",
       "      <th>1</th>\n",
       "      <td>2</td>\n",
       "      <td>5.0</td>\n",
       "      <td>1.063333</td>\n",
       "    </tr>\n",
       "    <tr>\n",
       "      <th>2</th>\n",
       "      <td>3</td>\n",
       "      <td>4.0</td>\n",
       "      <td>0.063333</td>\n",
       "    </tr>\n",
       "    <tr>\n",
       "      <th>3</th>\n",
       "      <td>4</td>\n",
       "      <td>2.0</td>\n",
       "      <td>-1.936667</td>\n",
       "    </tr>\n",
       "    <tr>\n",
       "      <th>4</th>\n",
       "      <td>5</td>\n",
       "      <td>3.0</td>\n",
       "      <td>-0.936667</td>\n",
       "    </tr>\n",
       "    <tr>\n",
       "      <th>5</th>\n",
       "      <td>6</td>\n",
       "      <td>6.0</td>\n",
       "      <td>2.063333</td>\n",
       "    </tr>\n",
       "    <tr>\n",
       "      <th>6</th>\n",
       "      <td>7</td>\n",
       "      <td>0.0</td>\n",
       "      <td>-3.936667</td>\n",
       "    </tr>\n",
       "    <tr>\n",
       "      <th>7</th>\n",
       "      <td>8</td>\n",
       "      <td>3.0</td>\n",
       "      <td>-0.936667</td>\n",
       "    </tr>\n",
       "    <tr>\n",
       "      <th>8</th>\n",
       "      <td>9</td>\n",
       "      <td>6.0</td>\n",
       "      <td>2.063333</td>\n",
       "    </tr>\n",
       "    <tr>\n",
       "      <th>9</th>\n",
       "      <td>10</td>\n",
       "      <td>3.0</td>\n",
       "      <td>-0.936667</td>\n",
       "    </tr>\n",
       "  </tbody>\n",
       "</table>\n",
       "</div>"
      ],
      "text/plain": [
       "   Partido  Goles  Diferencia\n",
       "0        1    2.0   -1.936667\n",
       "1        2    5.0    1.063333\n",
       "2        3    4.0    0.063333\n",
       "3        4    2.0   -1.936667\n",
       "4        5    3.0   -0.936667\n",
       "5        6    6.0    2.063333\n",
       "6        7    0.0   -3.936667\n",
       "7        8    3.0   -0.936667\n",
       "8        9    6.0    2.063333\n",
       "9       10    3.0   -0.936667"
      ]
     },
     "execution_count": 5,
     "metadata": {},
     "output_type": "execute_result"
    }
   ],
   "source": [
    "\n",
    "# Restar la media a cada elemento y añadir la columna 'Diferencia' en el DataFrame\n",
    "df_goles['Diferencia'] = df_goles['Goles'] - media\n",
    "df_goles.head(10)\n"
   ]
  },
  {
   "cell_type": "markdown",
   "id": "4469f186",
   "metadata": {},
   "source": [
    "Ahora elevamos ese valor al cuadrado y lo sumamos (Pregunta: qué calculamos aquí? V)"
   ]
  },
  {
   "cell_type": "code",
   "execution_count": 6,
   "id": "b5877247",
   "metadata": {},
   "outputs": [
    {
     "name": "stdout",
     "output_type": "stream",
     "text": [
      "Sumatoria de diferencias al cuadrado: 709.7966666666666\n"
     ]
    }
   ],
   "source": [
    "\n",
    "# Calcular la suma de las diferencias al cuadrado\n",
    "sumatoria = np.sum(df_goles['Diferencia'] ** 2)\n",
    "print(\"Sumatoria de diferencias al cuadrado:\", sumatoria)\n"
   ]
  },
  {
   "cell_type": "markdown",
   "id": "95acfe5c",
   "metadata": {},
   "source": [
    "Probemos qué ocurriría si el valor de la media fuera 1, 2, 3, 4,5, 6 o 7\n"
   ]
  },
  {
   "cell_type": "code",
   "execution_count": 7,
   "id": "ecbf2ce0",
   "metadata": {},
   "outputs": [
    {
     "data": {
      "text/html": [
       "<div>\n",
       "<style scoped>\n",
       "    .dataframe tbody tr th:only-of-type {\n",
       "        vertical-align: middle;\n",
       "    }\n",
       "\n",
       "    .dataframe tbody tr th {\n",
       "        vertical-align: top;\n",
       "    }\n",
       "\n",
       "    .dataframe thead th {\n",
       "        text-align: right;\n",
       "    }\n",
       "</style>\n",
       "<table border=\"1\" class=\"dataframe\">\n",
       "  <thead>\n",
       "    <tr style=\"text-align: right;\">\n",
       "      <th></th>\n",
       "      <th>Media</th>\n",
       "      <th>Suma de diferencias</th>\n",
       "    </tr>\n",
       "  </thead>\n",
       "  <tbody>\n",
       "    <tr>\n",
       "      <th>0</th>\n",
       "      <td>3.936667</td>\n",
       "      <td>709.796667</td>\n",
       "    </tr>\n",
       "    <tr>\n",
       "      <th>1</th>\n",
       "      <td>1.000000</td>\n",
       "      <td>3297.000000</td>\n",
       "    </tr>\n",
       "    <tr>\n",
       "      <th>2</th>\n",
       "      <td>2.000000</td>\n",
       "      <td>1835.000000</td>\n",
       "    </tr>\n",
       "    <tr>\n",
       "      <th>3</th>\n",
       "      <td>3.000000</td>\n",
       "      <td>973.000000</td>\n",
       "    </tr>\n",
       "    <tr>\n",
       "      <th>4</th>\n",
       "      <td>4.000000</td>\n",
       "      <td>711.000000</td>\n",
       "    </tr>\n",
       "    <tr>\n",
       "      <th>5</th>\n",
       "      <td>5.000000</td>\n",
       "      <td>1049.000000</td>\n",
       "    </tr>\n",
       "    <tr>\n",
       "      <th>6</th>\n",
       "      <td>6.000000</td>\n",
       "      <td>1987.000000</td>\n",
       "    </tr>\n",
       "    <tr>\n",
       "      <th>7</th>\n",
       "      <td>7.000000</td>\n",
       "      <td>3525.000000</td>\n",
       "    </tr>\n",
       "  </tbody>\n",
       "</table>\n",
       "</div>"
      ],
      "text/plain": [
       "      Media  Suma de diferencias\n",
       "0  3.936667           709.796667\n",
       "1  1.000000          3297.000000\n",
       "2  2.000000          1835.000000\n",
       "3  3.000000           973.000000\n",
       "4  4.000000           711.000000\n",
       "5  5.000000          1049.000000\n",
       "6  6.000000          1987.000000\n",
       "7  7.000000          3525.000000"
      ]
     },
     "execution_count": 7,
     "metadata": {},
     "output_type": "execute_result"
    }
   ],
   "source": [
    "# Función para calcular suma de diferencias al cuadrado con un valor dado\n",
    "def funcion_suma(valor):\n",
    "    return np.sum((df_goles['Goles'] - valor) ** 2)\n",
    "\n",
    "# Crear un vector con los valores a comparar\n",
    "valcomp = [media, 1, 2, 3, 4, 5, 6, 7]\n",
    "\n",
    "# Calcular y almacenar resultados en un DataFrame\n",
    "resultados = [funcion_suma(valor) for valor in valcomp]\n",
    "df_compEsp = pd.DataFrame({'Media': valcomp, 'Suma de diferencias': resultados})\n",
    "df_compEsp\n"
   ]
  },
  {
   "cell_type": "markdown",
   "id": "af5700ba",
   "metadata": {},
   "source": [
    "Volvemos a ver el df original y analicemos. \n",
    "Tenemos. \n",
    "1) Los datos Xi \n",
    "2) Los valores especificos de los goles en el partido i\n",
    "3) Diferencia entre el valor esperado (3.93) y el valor que tomó el evento i. **Esa diferencia se conoce como residuo o error**\n",
    "\n",
    "### CONCLUSIONES\n",
    "1. El valor cuyo pronostico es el que, en sumatoria, nos aleja menos del valor real\n",
    "es el valor de la media. Y cada valor real, se aleja en promedio, 1.54 en cada ejecución\n",
    "ya sea hacia abajo o por encima de la media. \n",
    "2. Es por eso que, el mejor valor que podemos ESPERAR es la media."
   ]
  },
  {
   "cell_type": "code",
   "execution_count": 8,
   "id": "9d65979d",
   "metadata": {},
   "outputs": [
    {
     "data": {
      "text/html": [
       "<div>\n",
       "<style scoped>\n",
       "    .dataframe tbody tr th:only-of-type {\n",
       "        vertical-align: middle;\n",
       "    }\n",
       "\n",
       "    .dataframe tbody tr th {\n",
       "        vertical-align: top;\n",
       "    }\n",
       "\n",
       "    .dataframe thead th {\n",
       "        text-align: right;\n",
       "    }\n",
       "</style>\n",
       "<table border=\"1\" class=\"dataframe\">\n",
       "  <thead>\n",
       "    <tr style=\"text-align: right;\">\n",
       "      <th></th>\n",
       "      <th>Partido</th>\n",
       "      <th>Goles</th>\n",
       "      <th>Diferencia</th>\n",
       "    </tr>\n",
       "  </thead>\n",
       "  <tbody>\n",
       "    <tr>\n",
       "      <th>0</th>\n",
       "      <td>1</td>\n",
       "      <td>2.0</td>\n",
       "      <td>-1.936667</td>\n",
       "    </tr>\n",
       "    <tr>\n",
       "      <th>1</th>\n",
       "      <td>2</td>\n",
       "      <td>5.0</td>\n",
       "      <td>1.063333</td>\n",
       "    </tr>\n",
       "    <tr>\n",
       "      <th>2</th>\n",
       "      <td>3</td>\n",
       "      <td>4.0</td>\n",
       "      <td>0.063333</td>\n",
       "    </tr>\n",
       "    <tr>\n",
       "      <th>3</th>\n",
       "      <td>4</td>\n",
       "      <td>2.0</td>\n",
       "      <td>-1.936667</td>\n",
       "    </tr>\n",
       "    <tr>\n",
       "      <th>4</th>\n",
       "      <td>5</td>\n",
       "      <td>3.0</td>\n",
       "      <td>-0.936667</td>\n",
       "    </tr>\n",
       "    <tr>\n",
       "      <th>...</th>\n",
       "      <td>...</td>\n",
       "      <td>...</td>\n",
       "      <td>...</td>\n",
       "    </tr>\n",
       "    <tr>\n",
       "      <th>295</th>\n",
       "      <td>296</td>\n",
       "      <td>5.0</td>\n",
       "      <td>1.063333</td>\n",
       "    </tr>\n",
       "    <tr>\n",
       "      <th>296</th>\n",
       "      <td>297</td>\n",
       "      <td>7.0</td>\n",
       "      <td>3.063333</td>\n",
       "    </tr>\n",
       "    <tr>\n",
       "      <th>297</th>\n",
       "      <td>298</td>\n",
       "      <td>5.0</td>\n",
       "      <td>1.063333</td>\n",
       "    </tr>\n",
       "    <tr>\n",
       "      <th>298</th>\n",
       "      <td>299</td>\n",
       "      <td>4.0</td>\n",
       "      <td>0.063333</td>\n",
       "    </tr>\n",
       "    <tr>\n",
       "      <th>299</th>\n",
       "      <td>300</td>\n",
       "      <td>5.0</td>\n",
       "      <td>1.063333</td>\n",
       "    </tr>\n",
       "  </tbody>\n",
       "</table>\n",
       "<p>300 rows × 3 columns</p>\n",
       "</div>"
      ],
      "text/plain": [
       "     Partido  Goles  Diferencia\n",
       "0          1    2.0   -1.936667\n",
       "1          2    5.0    1.063333\n",
       "2          3    4.0    0.063333\n",
       "3          4    2.0   -1.936667\n",
       "4          5    3.0   -0.936667\n",
       "..       ...    ...         ...\n",
       "295      296    5.0    1.063333\n",
       "296      297    7.0    3.063333\n",
       "297      298    5.0    1.063333\n",
       "298      299    4.0    0.063333\n",
       "299      300    5.0    1.063333\n",
       "\n",
       "[300 rows x 3 columns]"
      ]
     },
     "execution_count": 8,
     "metadata": {},
     "output_type": "execute_result"
    }
   ],
   "source": [
    "df_goles"
   ]
  },
  {
   "cell_type": "markdown",
   "id": "e5960d1d",
   "metadata": {},
   "source": [
    "Veamos ahora qué pasa con los errores en el agregado. "
   ]
  },
  {
   "cell_type": "code",
   "execution_count": 9,
   "id": "613cb36c",
   "metadata": {},
   "outputs": [
    {
     "data": {
      "image/png": "[encoded data removed]",
      "text/plain": [
       "<Figure size 640x480 with 1 Axes>"
      ]
     },
     "metadata": {},
     "output_type": "display_data"
    }
   ],
   "source": [
    "\n",
    "# Visualización del histograma de diferencias\n",
    "plt.hist(df_goles['Diferencia'], bins=9, color='blue', edgecolor='black')\n",
    "plt.axvline(0, color='red', linewidth=2, linestyle='--')\n",
    "plt.title(\"Histograma de las Diferencias de Goles con Respecto a la Media\")\n",
    "plt.xlabel(\"Diferencia con respecto a la media\")\n",
    "plt.ylabel(\"Frecuencia\")\n",
    "plt.show()\n"
   ]
  },
  {
   "cell_type": "code",
   "execution_count": 10,
   "id": "35ecd15a",
   "metadata": {},
   "outputs": [
    {
     "data": {
      "image/png": "[encoded data removed]",
      "text/plain": [
       "<Figure size 640x480 with 1 Axes>"
      ]
     },
     "metadata": {},
     "output_type": "display_data"
    }
   ],
   "source": [
    "\n",
    "# Visualización del barplot de diferencias por partido\n",
    "plt.bar(df_goles['Partido'], df_goles['Diferencia'], color='blue', edgecolor='black')\n",
    "plt.axhline(0, color='red', linewidth=2, linestyle='--')\n",
    "plt.title(\"Diferencias de Goles con Respecto a la Media\")\n",
    "plt.xlabel(\"Partido\")\n",
    "plt.ylabel(\"Diferencia con respecto a la media\")\n",
    "plt.show()\n"
   ]
  },
  {
   "cell_type": "markdown",
   "id": "c5b882f5",
   "metadata": {},
   "source": [
    "Arriba la media está donde el valor es 0. \n",
    "\n",
    "La media es un descriptivo?? \n",
    "\n",
    "Como esperanza es también un pronóstico, \n",
    "\n",
    "Notan como los errores tienden a ser simetricos?\n",
    "\n",
    "Vamos a asumir lo siguiente. Si no hubiera nada que afecte el desempeño en el \n",
    "proximo partido el equipo anotaria 4 goles. Sin embargo, hay muchas cosas que \n",
    "afectan el desempenio de los jugadores, a veces para bien a veces para mal. Entonces\n",
    "\n",
    "Lo que en un caso (Xi) hace que el valor esté arriba de la media, en otros hace que el valor esté abajo. Pero, en el agregado, en el valor medio, al estar en la mitad de la distribución, eso que afecta positivamente (sobreestima) o negativamente (subestima) se ve eliminado. Quitando un poco de rigor al ejemplo, en esa media estaríamos viendo la capacidad orgánica propia del equipo (sin afectaciones relacionadas a otras caracteristicas).\n",
    "\n",
    "Nota: en general esto es importante para el tema de regresión. \n",
    "\n",
    "En suma, en las ejecuciones por encima o por debajo\n",
    "**HAY ALGO QUE IMPIDE QUE EL VALOR VISTO SEA LA MEDIA QUE CONOCEMOS**  "
   ]
  },
  {
   "cell_type": "markdown",
   "id": "475fe5ce",
   "metadata": {},
   "source": [
    "### Cierre\n",
    "Ideas a recapitular \n",
    "* La media es el valor esperado. \n",
    "* Los residuos son las desviaciones respecto a la media.\n",
    "* La media es el valor que genera menos residuos. Es el estimador de MCO. \n",
    "* Si no hay nada (en los partidos) que condicione las ejecuciones (goles), las desviaciones de la media son simetricas, se distribuyen normalmente.\n",
    "* El valor esperado permite ver las caracteristicas \"Orgánicas\" del fenómeno."
   ]
  }
 ],
 "metadata": {
  "kernelspec": {
   "display_name": "Python 3",
   "language": "python",
   "name": "python3"
  },
  "language_info": {
   "codemirror_mode": {
    "name": "ipython",
    "version": 3
   },
   "file_extension": ".py",
   "mimetype": "text/x-python",
   "name": "python",
   "nbconvert_exporter": "python",
   "pygments_lexer": "ipython3",
   "version": "3.12.7"
  }
 },
 "nbformat": 4,
 "nbformat_minor": 5
}
